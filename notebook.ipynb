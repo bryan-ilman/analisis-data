{
  "cells": [
    {
      "cell_type": "markdown",
      "metadata": {
        "id": "H9wADwK78DCz"
      },
      "source": [
        "# Proyek Analisis Data: Air Quality Dataset\n",
        "- **Nama:** Bryan Raihan 'Ilman\n",
        "- **Email:** bryan.raihan@ui.ac.id\n",
        "- **ID Dicoding:** bryan_ilman"
      ]
    },
    {
      "cell_type": "markdown",
      "metadata": {
        "id": "eE0raob58DC0"
      },
      "source": [
        "## Menentukan Pertanyaan Bisnis"
      ]
    },
    {
      "cell_type": "markdown",
      "metadata": {
        "id": "GmQeQ5YF8DC0"
      },
      "source": [
        "- Bagaimana tren jumlah penyewaan sepeda per bulan selama tahun 2011 dan 2012?\n",
        "- Berapakah jumlah penyewaan sepeda pada hari kerja dan hari libur?\n",
        "- Pada jam berapa sepeda paling banyak disewa (kolom ‘hr’)?"
      ]
    },
    {
      "cell_type": "markdown",
      "metadata": {
        "id": "H-z4QGlO8DC1"
      },
      "source": [
        "## Import Semua Packages/Library yang Digunakan"
      ]
    },
    {
      "cell_type": "code",
      "execution_count": 13,
      "metadata": {
        "id": "FVYwaObI8DC1"
      },
      "outputs": [],
      "source": [
        "import pandas as pd\n",
        "import numpy as np\n",
        "import matplotlib.pyplot as plt"
      ]
    },
    {
      "cell_type": "markdown",
      "metadata": {
        "id": "h_Sh51Xy8DC1"
      },
      "source": [
        "## Data Wrangling"
      ]
    },
    {
      "cell_type": "markdown",
      "metadata": {
        "id": "sXU2GBYu8DC1"
      },
      "source": [
        "### Gathering Data"
      ]
    },
    {
      "cell_type": "code",
      "execution_count": 14,
      "metadata": {
        "id": "zjCBk1BI8DC1"
      },
      "outputs": [],
      "source": [
        "df_day = pd.read_csv(\"data/day.csv\")\n",
        "df_hour = pd.read_csv(\"data/hour.csv\")"
      ]
    },
    {
      "cell_type": "code",
      "execution_count": 15,
      "metadata": {},
      "outputs": [
        {
          "data": {
            "text/html": [
              "<div>\n",
              "<style scoped>\n",
              "    .dataframe tbody tr th:only-of-type {\n",
              "        vertical-align: middle;\n",
              "    }\n",
              "\n",
              "    .dataframe tbody tr th {\n",
              "        vertical-align: top;\n",
              "    }\n",
              "\n",
              "    .dataframe thead th {\n",
              "        text-align: right;\n",
              "    }\n",
              "</style>\n",
              "<table border=\"1\" class=\"dataframe\">\n",
              "  <thead>\n",
              "    <tr style=\"text-align: right;\">\n",
              "      <th></th>\n",
              "      <th>instant</th>\n",
              "      <th>dteday</th>\n",
              "      <th>season</th>\n",
              "      <th>yr</th>\n",
              "      <th>mnth</th>\n",
              "      <th>holiday</th>\n",
              "      <th>weekday</th>\n",
              "      <th>workingday</th>\n",
              "      <th>weathersit</th>\n",
              "      <th>temp</th>\n",
              "      <th>atemp</th>\n",
              "      <th>hum</th>\n",
              "      <th>windspeed</th>\n",
              "      <th>casual</th>\n",
              "      <th>registered</th>\n",
              "      <th>cnt</th>\n",
              "    </tr>\n",
              "  </thead>\n",
              "  <tbody>\n",
              "    <tr>\n",
              "      <th>0</th>\n",
              "      <td>1</td>\n",
              "      <td>2011-01-01</td>\n",
              "      <td>1</td>\n",
              "      <td>0</td>\n",
              "      <td>1</td>\n",
              "      <td>0</td>\n",
              "      <td>6</td>\n",
              "      <td>0</td>\n",
              "      <td>2</td>\n",
              "      <td>0.344167</td>\n",
              "      <td>0.363625</td>\n",
              "      <td>0.805833</td>\n",
              "      <td>0.160446</td>\n",
              "      <td>331</td>\n",
              "      <td>654</td>\n",
              "      <td>985</td>\n",
              "    </tr>\n",
              "    <tr>\n",
              "      <th>1</th>\n",
              "      <td>2</td>\n",
              "      <td>2011-01-02</td>\n",
              "      <td>1</td>\n",
              "      <td>0</td>\n",
              "      <td>1</td>\n",
              "      <td>0</td>\n",
              "      <td>0</td>\n",
              "      <td>0</td>\n",
              "      <td>2</td>\n",
              "      <td>0.363478</td>\n",
              "      <td>0.353739</td>\n",
              "      <td>0.696087</td>\n",
              "      <td>0.248539</td>\n",
              "      <td>131</td>\n",
              "      <td>670</td>\n",
              "      <td>801</td>\n",
              "    </tr>\n",
              "    <tr>\n",
              "      <th>2</th>\n",
              "      <td>3</td>\n",
              "      <td>2011-01-03</td>\n",
              "      <td>1</td>\n",
              "      <td>0</td>\n",
              "      <td>1</td>\n",
              "      <td>0</td>\n",
              "      <td>1</td>\n",
              "      <td>1</td>\n",
              "      <td>1</td>\n",
              "      <td>0.196364</td>\n",
              "      <td>0.189405</td>\n",
              "      <td>0.437273</td>\n",
              "      <td>0.248309</td>\n",
              "      <td>120</td>\n",
              "      <td>1229</td>\n",
              "      <td>1349</td>\n",
              "    </tr>\n",
              "    <tr>\n",
              "      <th>3</th>\n",
              "      <td>4</td>\n",
              "      <td>2011-01-04</td>\n",
              "      <td>1</td>\n",
              "      <td>0</td>\n",
              "      <td>1</td>\n",
              "      <td>0</td>\n",
              "      <td>2</td>\n",
              "      <td>1</td>\n",
              "      <td>1</td>\n",
              "      <td>0.200000</td>\n",
              "      <td>0.212122</td>\n",
              "      <td>0.590435</td>\n",
              "      <td>0.160296</td>\n",
              "      <td>108</td>\n",
              "      <td>1454</td>\n",
              "      <td>1562</td>\n",
              "    </tr>\n",
              "    <tr>\n",
              "      <th>4</th>\n",
              "      <td>5</td>\n",
              "      <td>2011-01-05</td>\n",
              "      <td>1</td>\n",
              "      <td>0</td>\n",
              "      <td>1</td>\n",
              "      <td>0</td>\n",
              "      <td>3</td>\n",
              "      <td>1</td>\n",
              "      <td>1</td>\n",
              "      <td>0.226957</td>\n",
              "      <td>0.229270</td>\n",
              "      <td>0.436957</td>\n",
              "      <td>0.186900</td>\n",
              "      <td>82</td>\n",
              "      <td>1518</td>\n",
              "      <td>1600</td>\n",
              "    </tr>\n",
              "  </tbody>\n",
              "</table>\n",
              "</div>"
            ],
            "text/plain": [
              "   instant      dteday  season  yr  mnth  holiday  weekday  workingday  \\\n",
              "0        1  2011-01-01       1   0     1        0        6           0   \n",
              "1        2  2011-01-02       1   0     1        0        0           0   \n",
              "2        3  2011-01-03       1   0     1        0        1           1   \n",
              "3        4  2011-01-04       1   0     1        0        2           1   \n",
              "4        5  2011-01-05       1   0     1        0        3           1   \n",
              "\n",
              "   weathersit      temp     atemp       hum  windspeed  casual  registered  \\\n",
              "0           2  0.344167  0.363625  0.805833   0.160446     331         654   \n",
              "1           2  0.363478  0.353739  0.696087   0.248539     131         670   \n",
              "2           1  0.196364  0.189405  0.437273   0.248309     120        1229   \n",
              "3           1  0.200000  0.212122  0.590435   0.160296     108        1454   \n",
              "4           1  0.226957  0.229270  0.436957   0.186900      82        1518   \n",
              "\n",
              "    cnt  \n",
              "0   985  \n",
              "1   801  \n",
              "2  1349  \n",
              "3  1562  \n",
              "4  1600  "
            ]
          },
          "execution_count": 15,
          "metadata": {},
          "output_type": "execute_result"
        }
      ],
      "source": [
        "df_day.head()"
      ]
    },
    {
      "cell_type": "code",
      "execution_count": 16,
      "metadata": {},
      "outputs": [
        {
          "data": {
            "text/html": [
              "<div>\n",
              "<style scoped>\n",
              "    .dataframe tbody tr th:only-of-type {\n",
              "        vertical-align: middle;\n",
              "    }\n",
              "\n",
              "    .dataframe tbody tr th {\n",
              "        vertical-align: top;\n",
              "    }\n",
              "\n",
              "    .dataframe thead th {\n",
              "        text-align: right;\n",
              "    }\n",
              "</style>\n",
              "<table border=\"1\" class=\"dataframe\">\n",
              "  <thead>\n",
              "    <tr style=\"text-align: right;\">\n",
              "      <th></th>\n",
              "      <th>instant</th>\n",
              "      <th>dteday</th>\n",
              "      <th>season</th>\n",
              "      <th>yr</th>\n",
              "      <th>mnth</th>\n",
              "      <th>hr</th>\n",
              "      <th>holiday</th>\n",
              "      <th>weekday</th>\n",
              "      <th>workingday</th>\n",
              "      <th>weathersit</th>\n",
              "      <th>temp</th>\n",
              "      <th>atemp</th>\n",
              "      <th>hum</th>\n",
              "      <th>windspeed</th>\n",
              "      <th>casual</th>\n",
              "      <th>registered</th>\n",
              "      <th>cnt</th>\n",
              "    </tr>\n",
              "  </thead>\n",
              "  <tbody>\n",
              "    <tr>\n",
              "      <th>0</th>\n",
              "      <td>1</td>\n",
              "      <td>2011-01-01</td>\n",
              "      <td>1</td>\n",
              "      <td>0</td>\n",
              "      <td>1</td>\n",
              "      <td>0</td>\n",
              "      <td>0</td>\n",
              "      <td>6</td>\n",
              "      <td>0</td>\n",
              "      <td>1</td>\n",
              "      <td>0.24</td>\n",
              "      <td>0.2879</td>\n",
              "      <td>0.81</td>\n",
              "      <td>0.0</td>\n",
              "      <td>3</td>\n",
              "      <td>13</td>\n",
              "      <td>16</td>\n",
              "    </tr>\n",
              "    <tr>\n",
              "      <th>1</th>\n",
              "      <td>2</td>\n",
              "      <td>2011-01-01</td>\n",
              "      <td>1</td>\n",
              "      <td>0</td>\n",
              "      <td>1</td>\n",
              "      <td>1</td>\n",
              "      <td>0</td>\n",
              "      <td>6</td>\n",
              "      <td>0</td>\n",
              "      <td>1</td>\n",
              "      <td>0.22</td>\n",
              "      <td>0.2727</td>\n",
              "      <td>0.80</td>\n",
              "      <td>0.0</td>\n",
              "      <td>8</td>\n",
              "      <td>32</td>\n",
              "      <td>40</td>\n",
              "    </tr>\n",
              "    <tr>\n",
              "      <th>2</th>\n",
              "      <td>3</td>\n",
              "      <td>2011-01-01</td>\n",
              "      <td>1</td>\n",
              "      <td>0</td>\n",
              "      <td>1</td>\n",
              "      <td>2</td>\n",
              "      <td>0</td>\n",
              "      <td>6</td>\n",
              "      <td>0</td>\n",
              "      <td>1</td>\n",
              "      <td>0.22</td>\n",
              "      <td>0.2727</td>\n",
              "      <td>0.80</td>\n",
              "      <td>0.0</td>\n",
              "      <td>5</td>\n",
              "      <td>27</td>\n",
              "      <td>32</td>\n",
              "    </tr>\n",
              "    <tr>\n",
              "      <th>3</th>\n",
              "      <td>4</td>\n",
              "      <td>2011-01-01</td>\n",
              "      <td>1</td>\n",
              "      <td>0</td>\n",
              "      <td>1</td>\n",
              "      <td>3</td>\n",
              "      <td>0</td>\n",
              "      <td>6</td>\n",
              "      <td>0</td>\n",
              "      <td>1</td>\n",
              "      <td>0.24</td>\n",
              "      <td>0.2879</td>\n",
              "      <td>0.75</td>\n",
              "      <td>0.0</td>\n",
              "      <td>3</td>\n",
              "      <td>10</td>\n",
              "      <td>13</td>\n",
              "    </tr>\n",
              "    <tr>\n",
              "      <th>4</th>\n",
              "      <td>5</td>\n",
              "      <td>2011-01-01</td>\n",
              "      <td>1</td>\n",
              "      <td>0</td>\n",
              "      <td>1</td>\n",
              "      <td>4</td>\n",
              "      <td>0</td>\n",
              "      <td>6</td>\n",
              "      <td>0</td>\n",
              "      <td>1</td>\n",
              "      <td>0.24</td>\n",
              "      <td>0.2879</td>\n",
              "      <td>0.75</td>\n",
              "      <td>0.0</td>\n",
              "      <td>0</td>\n",
              "      <td>1</td>\n",
              "      <td>1</td>\n",
              "    </tr>\n",
              "  </tbody>\n",
              "</table>\n",
              "</div>"
            ],
            "text/plain": [
              "   instant      dteday  season  yr  mnth  hr  holiday  weekday  workingday  \\\n",
              "0        1  2011-01-01       1   0     1   0        0        6           0   \n",
              "1        2  2011-01-01       1   0     1   1        0        6           0   \n",
              "2        3  2011-01-01       1   0     1   2        0        6           0   \n",
              "3        4  2011-01-01       1   0     1   3        0        6           0   \n",
              "4        5  2011-01-01       1   0     1   4        0        6           0   \n",
              "\n",
              "   weathersit  temp   atemp   hum  windspeed  casual  registered  cnt  \n",
              "0           1  0.24  0.2879  0.81        0.0       3          13   16  \n",
              "1           1  0.22  0.2727  0.80        0.0       8          32   40  \n",
              "2           1  0.22  0.2727  0.80        0.0       5          27   32  \n",
              "3           1  0.24  0.2879  0.75        0.0       3          10   13  \n",
              "4           1  0.24  0.2879  0.75        0.0       0           1    1  "
            ]
          },
          "execution_count": 16,
          "metadata": {},
          "output_type": "execute_result"
        }
      ],
      "source": [
        "df_hour.head()"
      ]
    },
    {
      "cell_type": "markdown",
      "metadata": {
        "id": "FHSiqaZp8DC1"
      },
      "source": [
        "### Assessing Data"
      ]
    },
    {
      "cell_type": "markdown",
      "metadata": {},
      "source": [
        "- Missing value"
      ]
    },
    {
      "cell_type": "markdown",
      "metadata": {},
      "source": [
        "Tidak ditemukan _missing value_ sama sekali pada `day.csv` dan `hour.csv`."
      ]
    },
    {
      "cell_type": "code",
      "execution_count": 17,
      "metadata": {},
      "outputs": [
        {
          "name": "stdout",
          "output_type": "stream",
          "text": [
            "The overall count of missing values for each column in the \"day\" dataframe:\n",
            "instant       0\n",
            "dteday        0\n",
            "season        0\n",
            "yr            0\n",
            "mnth          0\n",
            "holiday       0\n",
            "weekday       0\n",
            "workingday    0\n",
            "weathersit    0\n",
            "temp          0\n",
            "atemp         0\n",
            "hum           0\n",
            "windspeed     0\n",
            "casual        0\n",
            "registered    0\n",
            "cnt           0\n",
            "dtype: int64\n"
          ]
        }
      ],
      "source": [
        "print('The overall count of missing values for each column in the \"day\" dataframe:')\n",
        "print(df_day.isna().sum())"
      ]
    },
    {
      "cell_type": "code",
      "execution_count": 18,
      "metadata": {},
      "outputs": [
        {
          "name": "stdout",
          "output_type": "stream",
          "text": [
            "The overall count of missing values for each column in the \"hour\" dataframe:\n",
            "instant       0\n",
            "dteday        0\n",
            "season        0\n",
            "yr            0\n",
            "mnth          0\n",
            "hr            0\n",
            "holiday       0\n",
            "weekday       0\n",
            "workingday    0\n",
            "weathersit    0\n",
            "temp          0\n",
            "atemp         0\n",
            "hum           0\n",
            "windspeed     0\n",
            "casual        0\n",
            "registered    0\n",
            "cnt           0\n",
            "dtype: int64\n"
          ]
        }
      ],
      "source": [
        "print('The overall count of missing values for each column in the \"hour\" dataframe:')\n",
        "print(df_hour.isna().sum())"
      ]
    },
    {
      "cell_type": "markdown",
      "metadata": {},
      "source": [
        "- Duplicate data"
      ]
    },
    {
      "cell_type": "markdown",
      "metadata": {},
      "source": [
        "Tidak ditemukan _duplicate value_ sama sekali pada `day.csv` dan `hour.csv`."
      ]
    },
    {
      "cell_type": "code",
      "execution_count": 19,
      "metadata": {},
      "outputs": [
        {
          "name": "stdout",
          "output_type": "stream",
          "text": [
            "The overall count of duplicate entries in the \"day\" dataframe: 0\n",
            "The overall count of duplicate entries in the \"hour\" dataframe: 0\n"
          ]
        }
      ],
      "source": [
        "print('The overall count of duplicate entries in the \"day\" dataframe:', df_day.duplicated().sum())\n",
        "print('The overall count of duplicate entries in the \"hour\" dataframe:', df_hour.duplicated().sum())"
      ]
    },
    {
      "cell_type": "markdown",
      "metadata": {},
      "source": [
        "- Invalid value"
      ]
    },
    {
      "cell_type": "markdown",
      "metadata": {},
      "source": [
        "Sebuah hari dapat menjadi _working day_ atau _holiday_, tetapi tidak dapat menjadi keduanya sekaligus atau tidak keduanya sekaligus. Entri yang demikian perlu dihapus."
      ]
    },
    {
      "cell_type": "code",
      "execution_count": 20,
      "metadata": {},
      "outputs": [],
      "source": [
        "df_day = df_day[df_day['holiday'] != df_day['workingday']]\n",
        "df_hour = df_hour[df_hour['holiday'] != df_hour['workingday']]"
      ]
    },
    {
      "cell_type": "markdown",
      "metadata": {
        "id": "EhN5R4hr8DC1"
      },
      "source": [
        "### Cleaning Data"
      ]
    },
    {
      "cell_type": "markdown",
      "metadata": {},
      "source": [
        "- Remove ID"
      ]
    },
    {
      "cell_type": "markdown",
      "metadata": {},
      "source": [
        "ID tidak relevan dalam analisis data sehingga perlu dibuang."
      ]
    },
    {
      "cell_type": "code",
      "execution_count": 21,
      "metadata": {},
      "outputs": [],
      "source": [
        "df_day.drop('instant', axis=1, inplace=True)\n",
        "df_hour.drop('instant', axis=1, inplace=True)"
      ]
    },
    {
      "cell_type": "markdown",
      "metadata": {},
      "source": [
        "- Fix data type"
      ]
    },
    {
      "cell_type": "code",
      "execution_count": 22,
      "metadata": {},
      "outputs": [],
      "source": [
        "df_day['dteday'] = pd.to_datetime(df_day['dteday'])\n",
        "df_hour[\"dteday\"] = pd.to_datetime(df_hour[\"dteday\"])"
      ]
    },
    {
      "cell_type": "markdown",
      "metadata": {
        "id": "gp-Y6wU38DC1"
      },
      "source": [
        "## Exploratory Data Analysis (EDA)"
      ]
    },
    {
      "cell_type": "markdown",
      "metadata": {
        "id": "MW7WF2kr8DC1"
      },
      "source": [
        "### Explore ..."
      ]
    },
    {
      "cell_type": "markdown",
      "metadata": {},
      "source": [
        "Beberapa informasi penting yang dapat diperoleh dari `day.csv` adalah sebagai berikut. Pertama, rata-rata pengguna _bike sharing_ harian adalah 4550, dimana sebagian besar (3925) adalah _registered user_, dan sisanya (625) adalah _casual user_. Selama tahun 2011 dan 2012, kondisi cuaca rata-ratanya cerah, dengan suhu rata-rata sedang."
      ]
    },
    {
      "cell_type": "code",
      "execution_count": 23,
      "metadata": {
        "id": "e9CQCZjk8DC2"
      },
      "outputs": [
        {
          "data": {
            "text/html": [
              "<div>\n",
              "<style scoped>\n",
              "    .dataframe tbody tr th:only-of-type {\n",
              "        vertical-align: middle;\n",
              "    }\n",
              "\n",
              "    .dataframe tbody tr th {\n",
              "        vertical-align: top;\n",
              "    }\n",
              "\n",
              "    .dataframe thead th {\n",
              "        text-align: right;\n",
              "    }\n",
              "</style>\n",
              "<table border=\"1\" class=\"dataframe\">\n",
              "  <thead>\n",
              "    <tr style=\"text-align: right;\">\n",
              "      <th></th>\n",
              "      <th>dteday</th>\n",
              "      <th>season</th>\n",
              "      <th>yr</th>\n",
              "      <th>mnth</th>\n",
              "      <th>holiday</th>\n",
              "      <th>weekday</th>\n",
              "      <th>workingday</th>\n",
              "      <th>weathersit</th>\n",
              "      <th>temp</th>\n",
              "      <th>atemp</th>\n",
              "      <th>hum</th>\n",
              "      <th>windspeed</th>\n",
              "      <th>casual</th>\n",
              "      <th>registered</th>\n",
              "      <th>cnt</th>\n",
              "    </tr>\n",
              "  </thead>\n",
              "  <tbody>\n",
              "    <tr>\n",
              "      <th>count</th>\n",
              "      <td>521</td>\n",
              "      <td>521.000000</td>\n",
              "      <td>521.00000</td>\n",
              "      <td>521.000000</td>\n",
              "      <td>521.000000</td>\n",
              "      <td>521.000000</td>\n",
              "      <td>521.000000</td>\n",
              "      <td>521.000000</td>\n",
              "      <td>521.000000</td>\n",
              "      <td>521.000000</td>\n",
              "      <td>521.000000</td>\n",
              "      <td>521.000000</td>\n",
              "      <td>521.000000</td>\n",
              "      <td>521.000000</td>\n",
              "      <td>521.000000</td>\n",
              "    </tr>\n",
              "    <tr>\n",
              "      <th>mean</th>\n",
              "      <td>2012-01-01 04:50:12.667946496</td>\n",
              "      <td>2.502879</td>\n",
              "      <td>0.50096</td>\n",
              "      <td>6.522073</td>\n",
              "      <td>0.040307</td>\n",
              "      <td>2.996161</td>\n",
              "      <td>0.959693</td>\n",
              "      <td>1.412668</td>\n",
              "      <td>0.500444</td>\n",
              "      <td>0.478657</td>\n",
              "      <td>0.629621</td>\n",
              "      <td>0.189651</td>\n",
              "      <td>625.036468</td>\n",
              "      <td>3925.529750</td>\n",
              "      <td>4550.566219</td>\n",
              "    </tr>\n",
              "    <tr>\n",
              "      <th>min</th>\n",
              "      <td>2011-01-03 00:00:00</td>\n",
              "      <td>1.000000</td>\n",
              "      <td>0.00000</td>\n",
              "      <td>1.000000</td>\n",
              "      <td>0.000000</td>\n",
              "      <td>1.000000</td>\n",
              "      <td>0.000000</td>\n",
              "      <td>1.000000</td>\n",
              "      <td>0.097391</td>\n",
              "      <td>0.117930</td>\n",
              "      <td>0.000000</td>\n",
              "      <td>0.022392</td>\n",
              "      <td>2.000000</td>\n",
              "      <td>20.000000</td>\n",
              "      <td>22.000000</td>\n",
              "    </tr>\n",
              "    <tr>\n",
              "      <th>25%</th>\n",
              "      <td>2011-07-04 00:00:00</td>\n",
              "      <td>2.000000</td>\n",
              "      <td>0.00000</td>\n",
              "      <td>4.000000</td>\n",
              "      <td>0.000000</td>\n",
              "      <td>2.000000</td>\n",
              "      <td>1.000000</td>\n",
              "      <td>1.000000</td>\n",
              "      <td>0.341667</td>\n",
              "      <td>0.339004</td>\n",
              "      <td>0.531250</td>\n",
              "      <td>0.134337</td>\n",
              "      <td>253.000000</td>\n",
              "      <td>2914.000000</td>\n",
              "      <td>3272.000000</td>\n",
              "    </tr>\n",
              "    <tr>\n",
              "      <th>50%</th>\n",
              "      <td>2012-01-02 00:00:00</td>\n",
              "      <td>3.000000</td>\n",
              "      <td>1.00000</td>\n",
              "      <td>7.000000</td>\n",
              "      <td>0.000000</td>\n",
              "      <td>3.000000</td>\n",
              "      <td>1.000000</td>\n",
              "      <td>1.000000</td>\n",
              "      <td>0.512500</td>\n",
              "      <td>0.497463</td>\n",
              "      <td>0.630833</td>\n",
              "      <td>0.178479</td>\n",
              "      <td>620.000000</td>\n",
              "      <td>3848.000000</td>\n",
              "      <td>4575.000000</td>\n",
              "    </tr>\n",
              "    <tr>\n",
              "      <th>75%</th>\n",
              "      <td>2012-07-02 00:00:00</td>\n",
              "      <td>3.000000</td>\n",
              "      <td>1.00000</td>\n",
              "      <td>10.000000</td>\n",
              "      <td>0.000000</td>\n",
              "      <td>4.000000</td>\n",
              "      <td>1.000000</td>\n",
              "      <td>2.000000</td>\n",
              "      <td>0.655000</td>\n",
              "      <td>0.607962</td>\n",
              "      <td>0.729167</td>\n",
              "      <td>0.234471</td>\n",
              "      <td>884.000000</td>\n",
              "      <td>5146.000000</td>\n",
              "      <td>5992.000000</td>\n",
              "    </tr>\n",
              "    <tr>\n",
              "      <th>max</th>\n",
              "      <td>2012-12-31 00:00:00</td>\n",
              "      <td>4.000000</td>\n",
              "      <td>1.00000</td>\n",
              "      <td>12.000000</td>\n",
              "      <td>1.000000</td>\n",
              "      <td>5.000000</td>\n",
              "      <td>1.000000</td>\n",
              "      <td>3.000000</td>\n",
              "      <td>0.848333</td>\n",
              "      <td>0.840896</td>\n",
              "      <td>0.972500</td>\n",
              "      <td>0.441563</td>\n",
              "      <td>3065.000000</td>\n",
              "      <td>6946.000000</td>\n",
              "      <td>8362.000000</td>\n",
              "    </tr>\n",
              "    <tr>\n",
              "      <th>std</th>\n",
              "      <td>NaN</td>\n",
              "      <td>1.107879</td>\n",
              "      <td>0.50048</td>\n",
              "      <td>3.442940</td>\n",
              "      <td>0.196868</td>\n",
              "      <td>1.416925</td>\n",
              "      <td>0.196868</td>\n",
              "      <td>0.551704</td>\n",
              "      <td>0.181718</td>\n",
              "      <td>0.161419</td>\n",
              "      <td>0.140250</td>\n",
              "      <td>0.077257</td>\n",
              "      <td>428.559901</td>\n",
              "      <td>1585.382716</td>\n",
              "      <td>1893.171210</td>\n",
              "    </tr>\n",
              "  </tbody>\n",
              "</table>\n",
              "</div>"
            ],
            "text/plain": [
              "                              dteday      season         yr        mnth  \\\n",
              "count                            521  521.000000  521.00000  521.000000   \n",
              "mean   2012-01-01 04:50:12.667946496    2.502879    0.50096    6.522073   \n",
              "min              2011-01-03 00:00:00    1.000000    0.00000    1.000000   \n",
              "25%              2011-07-04 00:00:00    2.000000    0.00000    4.000000   \n",
              "50%              2012-01-02 00:00:00    3.000000    1.00000    7.000000   \n",
              "75%              2012-07-02 00:00:00    3.000000    1.00000   10.000000   \n",
              "max              2012-12-31 00:00:00    4.000000    1.00000   12.000000   \n",
              "std                              NaN    1.107879    0.50048    3.442940   \n",
              "\n",
              "          holiday     weekday  workingday  weathersit        temp       atemp  \\\n",
              "count  521.000000  521.000000  521.000000  521.000000  521.000000  521.000000   \n",
              "mean     0.040307    2.996161    0.959693    1.412668    0.500444    0.478657   \n",
              "min      0.000000    1.000000    0.000000    1.000000    0.097391    0.117930   \n",
              "25%      0.000000    2.000000    1.000000    1.000000    0.341667    0.339004   \n",
              "50%      0.000000    3.000000    1.000000    1.000000    0.512500    0.497463   \n",
              "75%      0.000000    4.000000    1.000000    2.000000    0.655000    0.607962   \n",
              "max      1.000000    5.000000    1.000000    3.000000    0.848333    0.840896   \n",
              "std      0.196868    1.416925    0.196868    0.551704    0.181718    0.161419   \n",
              "\n",
              "              hum   windspeed       casual   registered          cnt  \n",
              "count  521.000000  521.000000   521.000000   521.000000   521.000000  \n",
              "mean     0.629621    0.189651   625.036468  3925.529750  4550.566219  \n",
              "min      0.000000    0.022392     2.000000    20.000000    22.000000  \n",
              "25%      0.531250    0.134337   253.000000  2914.000000  3272.000000  \n",
              "50%      0.630833    0.178479   620.000000  3848.000000  4575.000000  \n",
              "75%      0.729167    0.234471   884.000000  5146.000000  5992.000000  \n",
              "max      0.972500    0.441563  3065.000000  6946.000000  8362.000000  \n",
              "std      0.140250    0.077257   428.559901  1585.382716  1893.171210  "
            ]
          },
          "execution_count": 23,
          "metadata": {},
          "output_type": "execute_result"
        }
      ],
      "source": [
        "df_day.describe()"
      ]
    },
    {
      "cell_type": "markdown",
      "metadata": {},
      "source": [
        "Korelasi antara 'cnt' dan 'registered' hampir positif sempurna, yang berarti kenaikan dalam 'registered' sangat erat terkait dengan kenaikan dalam 'cnt'. Selain itu, 'temp' dan 'cnt' juga memiliki korelasi yang kuat, menunjukkan bahwa lebih banyak orang cenderung menggunakan layanan bike sharing ketika suhu meningkat."
      ]
    },
    {
      "cell_type": "code",
      "execution_count": 24,
      "metadata": {},
      "outputs": [
        {
          "data": {
            "text/html": [
              "<div>\n",
              "<style scoped>\n",
              "    .dataframe tbody tr th:only-of-type {\n",
              "        vertical-align: middle;\n",
              "    }\n",
              "\n",
              "    .dataframe tbody tr th {\n",
              "        vertical-align: top;\n",
              "    }\n",
              "\n",
              "    .dataframe thead th {\n",
              "        text-align: right;\n",
              "    }\n",
              "</style>\n",
              "<table border=\"1\" class=\"dataframe\">\n",
              "  <thead>\n",
              "    <tr style=\"text-align: right;\">\n",
              "      <th></th>\n",
              "      <th>season</th>\n",
              "      <th>yr</th>\n",
              "      <th>mnth</th>\n",
              "      <th>holiday</th>\n",
              "      <th>weekday</th>\n",
              "      <th>workingday</th>\n",
              "      <th>weathersit</th>\n",
              "      <th>temp</th>\n",
              "      <th>atemp</th>\n",
              "      <th>hum</th>\n",
              "      <th>windspeed</th>\n",
              "      <th>casual</th>\n",
              "      <th>registered</th>\n",
              "      <th>cnt</th>\n",
              "    </tr>\n",
              "  </thead>\n",
              "  <tbody>\n",
              "    <tr>\n",
              "      <th>season</th>\n",
              "      <td>1.000000</td>\n",
              "      <td>-0.000872</td>\n",
              "      <td>0.836019</td>\n",
              "      <td>-0.013759</td>\n",
              "      <td>-0.002443</td>\n",
              "      <td>0.013759</td>\n",
              "      <td>0.034235</td>\n",
              "      <td>0.340146</td>\n",
              "      <td>0.345879</td>\n",
              "      <td>0.216763</td>\n",
              "      <td>-0.233897</td>\n",
              "      <td>0.248301</td>\n",
              "      <td>0.415285</td>\n",
              "      <td>0.403977</td>\n",
              "    </tr>\n",
              "    <tr>\n",
              "      <th>yr</th>\n",
              "      <td>-0.000872</td>\n",
              "      <td>1.000000</td>\n",
              "      <td>-0.005872</td>\n",
              "      <td>0.009366</td>\n",
              "      <td>-0.002707</td>\n",
              "      <td>-0.009366</td>\n",
              "      <td>-0.088496</td>\n",
              "      <td>0.048583</td>\n",
              "      <td>0.048076</td>\n",
              "      <td>-0.116180</td>\n",
              "      <td>-0.030561</td>\n",
              "      <td>0.308497</td>\n",
              "      <td>0.636105</td>\n",
              "      <td>0.602523</td>\n",
              "    </tr>\n",
              "    <tr>\n",
              "      <th>mnth</th>\n",
              "      <td>0.836019</td>\n",
              "      <td>-0.005872</td>\n",
              "      <td>1.000000</td>\n",
              "      <td>0.022801</td>\n",
              "      <td>0.009478</td>\n",
              "      <td>-0.022801</td>\n",
              "      <td>0.087832</td>\n",
              "      <td>0.227254</td>\n",
              "      <td>0.232669</td>\n",
              "      <td>0.249035</td>\n",
              "      <td>-0.218565</td>\n",
              "      <td>0.152508</td>\n",
              "      <td>0.298474</td>\n",
              "      <td>0.284472</td>\n",
              "    </tr>\n",
              "    <tr>\n",
              "      <th>holiday</th>\n",
              "      <td>-0.013759</td>\n",
              "      <td>0.009366</td>\n",
              "      <td>0.022801</td>\n",
              "      <td>1.000000</td>\n",
              "      <td>-0.171796</td>\n",
              "      <td>-1.000000</td>\n",
              "      <td>-0.047204</td>\n",
              "      <td>-0.039998</td>\n",
              "      <td>-0.044585</td>\n",
              "      <td>-0.021818</td>\n",
              "      <td>0.009741</td>\n",
              "      <td>0.210458</td>\n",
              "      <td>-0.162419</td>\n",
              "      <td>-0.088371</td>\n",
              "    </tr>\n",
              "    <tr>\n",
              "      <th>weekday</th>\n",
              "      <td>-0.002443</td>\n",
              "      <td>-0.002707</td>\n",
              "      <td>0.009478</td>\n",
              "      <td>-0.171796</td>\n",
              "      <td>1.000000</td>\n",
              "      <td>0.171796</td>\n",
              "      <td>-0.012730</td>\n",
              "      <td>0.003475</td>\n",
              "      <td>-0.006523</td>\n",
              "      <td>-0.080639</td>\n",
              "      <td>-0.016162</td>\n",
              "      <td>0.062626</td>\n",
              "      <td>0.060085</td>\n",
              "      <td>0.064493</td>\n",
              "    </tr>\n",
              "    <tr>\n",
              "      <th>workingday</th>\n",
              "      <td>0.013759</td>\n",
              "      <td>-0.009366</td>\n",
              "      <td>-0.022801</td>\n",
              "      <td>-1.000000</td>\n",
              "      <td>0.171796</td>\n",
              "      <td>1.000000</td>\n",
              "      <td>0.047204</td>\n",
              "      <td>0.039998</td>\n",
              "      <td>0.044585</td>\n",
              "      <td>0.021818</td>\n",
              "      <td>-0.009741</td>\n",
              "      <td>-0.210458</td>\n",
              "      <td>0.162419</td>\n",
              "      <td>0.088371</td>\n",
              "    </tr>\n",
              "    <tr>\n",
              "      <th>weathersit</th>\n",
              "      <td>0.034235</td>\n",
              "      <td>-0.088496</td>\n",
              "      <td>0.087832</td>\n",
              "      <td>-0.047204</td>\n",
              "      <td>-0.012730</td>\n",
              "      <td>0.047204</td>\n",
              "      <td>1.000000</td>\n",
              "      <td>-0.132107</td>\n",
              "      <td>-0.132576</td>\n",
              "      <td>0.574880</td>\n",
              "      <td>0.034233</td>\n",
              "      <td>-0.308316</td>\n",
              "      <td>-0.315746</td>\n",
              "      <td>-0.334206</td>\n",
              "    </tr>\n",
              "    <tr>\n",
              "      <th>temp</th>\n",
              "      <td>0.340146</td>\n",
              "      <td>0.048583</td>\n",
              "      <td>0.227254</td>\n",
              "      <td>-0.039998</td>\n",
              "      <td>0.003475</td>\n",
              "      <td>0.039998</td>\n",
              "      <td>-0.132107</td>\n",
              "      <td>1.000000</td>\n",
              "      <td>0.989547</td>\n",
              "      <td>0.118955</td>\n",
              "      <td>-0.149318</td>\n",
              "      <td>0.696772</td>\n",
              "      <td>0.550765</td>\n",
              "      <td>0.618952</td>\n",
              "    </tr>\n",
              "    <tr>\n",
              "      <th>atemp</th>\n",
              "      <td>0.345879</td>\n",
              "      <td>0.048076</td>\n",
              "      <td>0.232669</td>\n",
              "      <td>-0.044585</td>\n",
              "      <td>-0.006523</td>\n",
              "      <td>0.044585</td>\n",
              "      <td>-0.132576</td>\n",
              "      <td>0.989547</td>\n",
              "      <td>1.000000</td>\n",
              "      <td>0.130819</td>\n",
              "      <td>-0.174118</td>\n",
              "      <td>0.687912</td>\n",
              "      <td>0.554191</td>\n",
              "      <td>0.619815</td>\n",
              "    </tr>\n",
              "    <tr>\n",
              "      <th>hum</th>\n",
              "      <td>0.216763</td>\n",
              "      <td>-0.116180</td>\n",
              "      <td>0.249035</td>\n",
              "      <td>-0.021818</td>\n",
              "      <td>-0.080639</td>\n",
              "      <td>0.021818</td>\n",
              "      <td>0.574880</td>\n",
              "      <td>0.118955</td>\n",
              "      <td>0.130819</td>\n",
              "      <td>1.000000</td>\n",
              "      <td>-0.251648</td>\n",
              "      <td>-0.112948</td>\n",
              "      <td>-0.118280</td>\n",
              "      <td>-0.124618</td>\n",
              "    </tr>\n",
              "    <tr>\n",
              "      <th>windspeed</th>\n",
              "      <td>-0.233897</td>\n",
              "      <td>-0.030561</td>\n",
              "      <td>-0.218565</td>\n",
              "      <td>0.009741</td>\n",
              "      <td>-0.016162</td>\n",
              "      <td>-0.009741</td>\n",
              "      <td>0.034233</td>\n",
              "      <td>-0.149318</td>\n",
              "      <td>-0.174118</td>\n",
              "      <td>-0.251648</td>\n",
              "      <td>1.000000</td>\n",
              "      <td>-0.198354</td>\n",
              "      <td>-0.205835</td>\n",
              "      <td>-0.217272</td>\n",
              "    </tr>\n",
              "    <tr>\n",
              "      <th>casual</th>\n",
              "      <td>0.248301</td>\n",
              "      <td>0.308497</td>\n",
              "      <td>0.152508</td>\n",
              "      <td>0.210458</td>\n",
              "      <td>0.062626</td>\n",
              "      <td>-0.210458</td>\n",
              "      <td>-0.308316</td>\n",
              "      <td>0.696772</td>\n",
              "      <td>0.687912</td>\n",
              "      <td>-0.112948</td>\n",
              "      <td>-0.198354</td>\n",
              "      <td>1.000000</td>\n",
              "      <td>0.652748</td>\n",
              "      <td>0.772997</td>\n",
              "    </tr>\n",
              "    <tr>\n",
              "      <th>registered</th>\n",
              "      <td>0.415285</td>\n",
              "      <td>0.636105</td>\n",
              "      <td>0.298474</td>\n",
              "      <td>-0.162419</td>\n",
              "      <td>0.060085</td>\n",
              "      <td>0.162419</td>\n",
              "      <td>-0.315746</td>\n",
              "      <td>0.550765</td>\n",
              "      <td>0.554191</td>\n",
              "      <td>-0.118280</td>\n",
              "      <td>-0.205835</td>\n",
              "      <td>0.652748</td>\n",
              "      <td>1.000000</td>\n",
              "      <td>0.985185</td>\n",
              "    </tr>\n",
              "    <tr>\n",
              "      <th>cnt</th>\n",
              "      <td>0.403977</td>\n",
              "      <td>0.602523</td>\n",
              "      <td>0.284472</td>\n",
              "      <td>-0.088371</td>\n",
              "      <td>0.064493</td>\n",
              "      <td>0.088371</td>\n",
              "      <td>-0.334206</td>\n",
              "      <td>0.618952</td>\n",
              "      <td>0.619815</td>\n",
              "      <td>-0.124618</td>\n",
              "      <td>-0.217272</td>\n",
              "      <td>0.772997</td>\n",
              "      <td>0.985185</td>\n",
              "      <td>1.000000</td>\n",
              "    </tr>\n",
              "  </tbody>\n",
              "</table>\n",
              "</div>"
            ],
            "text/plain": [
              "              season        yr      mnth   holiday   weekday  workingday  \\\n",
              "season      1.000000 -0.000872  0.836019 -0.013759 -0.002443    0.013759   \n",
              "yr         -0.000872  1.000000 -0.005872  0.009366 -0.002707   -0.009366   \n",
              "mnth        0.836019 -0.005872  1.000000  0.022801  0.009478   -0.022801   \n",
              "holiday    -0.013759  0.009366  0.022801  1.000000 -0.171796   -1.000000   \n",
              "weekday    -0.002443 -0.002707  0.009478 -0.171796  1.000000    0.171796   \n",
              "workingday  0.013759 -0.009366 -0.022801 -1.000000  0.171796    1.000000   \n",
              "weathersit  0.034235 -0.088496  0.087832 -0.047204 -0.012730    0.047204   \n",
              "temp        0.340146  0.048583  0.227254 -0.039998  0.003475    0.039998   \n",
              "atemp       0.345879  0.048076  0.232669 -0.044585 -0.006523    0.044585   \n",
              "hum         0.216763 -0.116180  0.249035 -0.021818 -0.080639    0.021818   \n",
              "windspeed  -0.233897 -0.030561 -0.218565  0.009741 -0.016162   -0.009741   \n",
              "casual      0.248301  0.308497  0.152508  0.210458  0.062626   -0.210458   \n",
              "registered  0.415285  0.636105  0.298474 -0.162419  0.060085    0.162419   \n",
              "cnt         0.403977  0.602523  0.284472 -0.088371  0.064493    0.088371   \n",
              "\n",
              "            weathersit      temp     atemp       hum  windspeed    casual  \\\n",
              "season        0.034235  0.340146  0.345879  0.216763  -0.233897  0.248301   \n",
              "yr           -0.088496  0.048583  0.048076 -0.116180  -0.030561  0.308497   \n",
              "mnth          0.087832  0.227254  0.232669  0.249035  -0.218565  0.152508   \n",
              "holiday      -0.047204 -0.039998 -0.044585 -0.021818   0.009741  0.210458   \n",
              "weekday      -0.012730  0.003475 -0.006523 -0.080639  -0.016162  0.062626   \n",
              "workingday    0.047204  0.039998  0.044585  0.021818  -0.009741 -0.210458   \n",
              "weathersit    1.000000 -0.132107 -0.132576  0.574880   0.034233 -0.308316   \n",
              "temp         -0.132107  1.000000  0.989547  0.118955  -0.149318  0.696772   \n",
              "atemp        -0.132576  0.989547  1.000000  0.130819  -0.174118  0.687912   \n",
              "hum           0.574880  0.118955  0.130819  1.000000  -0.251648 -0.112948   \n",
              "windspeed     0.034233 -0.149318 -0.174118 -0.251648   1.000000 -0.198354   \n",
              "casual       -0.308316  0.696772  0.687912 -0.112948  -0.198354  1.000000   \n",
              "registered   -0.315746  0.550765  0.554191 -0.118280  -0.205835  0.652748   \n",
              "cnt          -0.334206  0.618952  0.619815 -0.124618  -0.217272  0.772997   \n",
              "\n",
              "            registered       cnt  \n",
              "season        0.415285  0.403977  \n",
              "yr            0.636105  0.602523  \n",
              "mnth          0.298474  0.284472  \n",
              "holiday      -0.162419 -0.088371  \n",
              "weekday       0.060085  0.064493  \n",
              "workingday    0.162419  0.088371  \n",
              "weathersit   -0.315746 -0.334206  \n",
              "temp          0.550765  0.618952  \n",
              "atemp         0.554191  0.619815  \n",
              "hum          -0.118280 -0.124618  \n",
              "windspeed    -0.205835 -0.217272  \n",
              "casual        0.652748  0.772997  \n",
              "registered    1.000000  0.985185  \n",
              "cnt           0.985185  1.000000  "
            ]
          },
          "execution_count": 24,
          "metadata": {},
          "output_type": "execute_result"
        }
      ],
      "source": [
        "df_day.corr(numeric_only=True)"
      ]
    },
    {
      "cell_type": "markdown",
      "metadata": {},
      "source": [
        "Angka 3 menandakan musim _fall_. Terlihat bahwa jumlah penggunaan _bike sharing_ paling tinggi terjadi pada musim _fall_ dan paling rendah pada musim _spring_, yang ditunjukkan dengan angka 1."
      ]
    },
    {
      "cell_type": "code",
      "execution_count": 25,
      "metadata": {},
      "outputs": [
        {
          "data": {
            "text/html": [
              "<div>\n",
              "<style scoped>\n",
              "    .dataframe tbody tr th:only-of-type {\n",
              "        vertical-align: middle;\n",
              "    }\n",
              "\n",
              "    .dataframe tbody tr th {\n",
              "        vertical-align: top;\n",
              "    }\n",
              "\n",
              "    .dataframe thead th {\n",
              "        text-align: right;\n",
              "    }\n",
              "</style>\n",
              "<table border=\"1\" class=\"dataframe\">\n",
              "  <thead>\n",
              "    <tr style=\"text-align: right;\">\n",
              "      <th></th>\n",
              "      <th>cnt</th>\n",
              "    </tr>\n",
              "    <tr>\n",
              "      <th>season</th>\n",
              "      <th></th>\n",
              "    </tr>\n",
              "  </thead>\n",
              "  <tbody>\n",
              "    <tr>\n",
              "      <th>1</th>\n",
              "      <td>2720.314961</td>\n",
              "    </tr>\n",
              "    <tr>\n",
              "      <th>2</th>\n",
              "      <td>4926.136364</td>\n",
              "    </tr>\n",
              "    <tr>\n",
              "      <th>3</th>\n",
              "      <td>5717.807407</td>\n",
              "    </tr>\n",
              "    <tr>\n",
              "      <th>4</th>\n",
              "      <td>4749.692913</td>\n",
              "    </tr>\n",
              "  </tbody>\n",
              "</table>\n",
              "</div>"
            ],
            "text/plain": [
              "                cnt\n",
              "season             \n",
              "1       2720.314961\n",
              "2       4926.136364\n",
              "3       5717.807407\n",
              "4       4749.692913"
            ]
          },
          "execution_count": 25,
          "metadata": {},
          "output_type": "execute_result"
        }
      ],
      "source": [
        "df_day.groupby(by='season').agg({\n",
        "    'cnt': 'mean',\n",
        "})"
      ]
    },
    {
      "cell_type": "markdown",
      "metadata": {},
      "source": [
        "Angka 1 menandakan cuaca cerah. Terlihat bahwa jumlah penggunaan _bike sharing_ paling tinggi terjadi pada cuaca cerah dan paling rendah pada musim cuaca hujan, yang ditunjukkan dengan angka 4."
      ]
    },
    {
      "cell_type": "code",
      "execution_count": 26,
      "metadata": {},
      "outputs": [
        {
          "data": {
            "text/html": [
              "<div>\n",
              "<style scoped>\n",
              "    .dataframe tbody tr th:only-of-type {\n",
              "        vertical-align: middle;\n",
              "    }\n",
              "\n",
              "    .dataframe tbody tr th {\n",
              "        vertical-align: top;\n",
              "    }\n",
              "\n",
              "    .dataframe thead th {\n",
              "        text-align: right;\n",
              "    }\n",
              "</style>\n",
              "<table border=\"1\" class=\"dataframe\">\n",
              "  <thead>\n",
              "    <tr style=\"text-align: right;\">\n",
              "      <th></th>\n",
              "      <th>cnt</th>\n",
              "    </tr>\n",
              "    <tr>\n",
              "      <th>weathersit</th>\n",
              "      <th></th>\n",
              "    </tr>\n",
              "  </thead>\n",
              "  <tbody>\n",
              "    <tr>\n",
              "      <th>1</th>\n",
              "      <td>206.559513</td>\n",
              "    </tr>\n",
              "    <tr>\n",
              "      <th>2</th>\n",
              "      <td>181.605168</td>\n",
              "    </tr>\n",
              "    <tr>\n",
              "      <th>3</th>\n",
              "      <td>112.395480</td>\n",
              "    </tr>\n",
              "    <tr>\n",
              "      <th>4</th>\n",
              "      <td>100.000000</td>\n",
              "    </tr>\n",
              "  </tbody>\n",
              "</table>\n",
              "</div>"
            ],
            "text/plain": [
              "                   cnt\n",
              "weathersit            \n",
              "1           206.559513\n",
              "2           181.605168\n",
              "3           112.395480\n",
              "4           100.000000"
            ]
          },
          "execution_count": 26,
          "metadata": {},
          "output_type": "execute_result"
        }
      ],
      "source": [
        "df_hour.groupby(by='weathersit').agg({\n",
        "    'cnt': 'mean',\n",
        "})"
      ]
    },
    {
      "cell_type": "markdown",
      "metadata": {
        "id": "zsyZjqak8DC2"
      },
      "source": [
        "## Visualization & Explanatory Analysis"
      ]
    },
    {
      "cell_type": "markdown",
      "metadata": {
        "id": "HZxOiQ6n8DC2"
      },
      "source": [
        "### Bagaimana tren jumlah penyewaan sepeda per bulan selama tahun 2011 dan 2012?"
      ]
    },
    {
      "cell_type": "markdown",
      "metadata": {},
      "source": [
        "Tren penggunaan bike sharing terus meningkat setiap bulan dan mencapai puncaknya pada bulan Agustus, yang merupakan pertengahan musim _fall_. Setelah itu, penggunaan mengalami penurunan terus menerus hingga mencapai titik terendah pada bulan Januari, yang merupakan akhir musim _spring_. Selain itu, terlihat bahwa pada setiap bulan, jumlah pengguna bike sharing pada tahun 2012 secara signifikan lebih banyak daripada pada bulan yang sama tahun sebelumnya."
      ]
    },
    {
      "cell_type": "code",
      "execution_count": 27,
      "metadata": {
        "id": "1swJUdAD8DC2"
      },
      "outputs": [
        {
          "data": {
            "image/png": "[encoded data removed]",
            "text/plain": [
              "<Figure size 640x480 with 1 Axes>"
            ]
          },
          "metadata": {},
          "output_type": "display_data"
        }
      ],
      "source": [
        "monthly_rentals = df_day.groupby([df_day['dteday'].dt.year.rename('Year'), df_day['dteday'].dt.month.rename('Month')])['cnt'].sum().reset_index()\n",
        "\n",
        "pivot_df = monthly_rentals.pivot(index='Month', columns='Year', values='cnt')\n",
        "\n",
        "pivot_df.plot(kind='line', marker='o')\n",
        "\n",
        "plt.title('Monthly Bike Rentals for 2011 and 2012')\n",
        "plt.xlabel('Month')\n",
        "plt.ylabel('Total Rentals')\n",
        "plt.legend(title='Year', loc='upper left')\n",
        "\n",
        "plt.show()"
      ]
    },
    {
      "cell_type": "markdown",
      "metadata": {
        "id": "DgHI7CiU8DC2"
      },
      "source": [
        "### Berapakah jumlah penyewaan sepeda pada hari kerja dan hari libur?"
      ]
    },
    {
      "cell_type": "markdown",
      "metadata": {},
      "source": [
        "Jumlah pengguna _bike sharing_ lebih banyak di hari kerja dibanding di hari libur."
      ]
    },
    {
      "cell_type": "code",
      "execution_count": 28,
      "metadata": {
        "id": "Go0lCsvO8DC2"
      },
      "outputs": [
        {
          "data": {
            "image/png": "[encoded data removed]",
            "text/plain": [
              "<Figure size 500x500 with 1 Axes>"
            ]
          },
          "metadata": {},
          "output_type": "display_data"
        }
      ],
      "source": [
        "# Calculate total rentals for working days and holidays\n",
        "total_rentals_working_days = df_day[df_day['workingday'] == 1]['cnt'].sum()\n",
        "total_rentals_holidays = df_day[df_day['holiday'] == 1]['cnt'].sum()\n",
        "\n",
        "# Prepare data for the bar graph\n",
        "data = {'Working Days': total_rentals_working_days, 'Holidays': total_rentals_holidays}\n",
        "names = list(data.keys())\n",
        "values = list(data.values())\n",
        "\n",
        "# Create bar graph\n",
        "plt.figure(figsize=(5, 5))\n",
        "plt.bar(names, values, color=['blue', 'green'])\n",
        "plt.title('Total Bike Rentals on Working Days and Holidays')\n",
        "plt.xlabel('Day Type')\n",
        "plt.ylabel('Total Rentals')\n",
        "plt.show()"
      ]
    },
    {
      "cell_type": "markdown",
      "metadata": {},
      "source": [
        "### Pada jam berapa sepeda paling banyak disewa (kolom ‘hr’)?"
      ]
    },
    {
      "cell_type": "markdown",
      "metadata": {},
      "source": [
        "Jumlah pengguna _bike sharing_ mengalami lonjakan signifikan pada jam 8 pagi dan jam 5 sore. Pada siang hari, jumlah pengguna bisa dikatakan stabil. Terlihat bahwa jumlah pengguna turun drastis pada larut malam."
      ]
    },
    {
      "cell_type": "code",
      "execution_count": 29,
      "metadata": {},
      "outputs": [
        {
          "data": {
            "image/png": "[encoded data removed]",
            "text/plain": [
              "<Figure size 1000x500 with 1 Axes>"
            ]
          },
          "metadata": {},
          "output_type": "display_data"
        }
      ],
      "source": [
        "# Group by 'hr' and sum 'cnt'\n",
        "hourly_rentals = df_hour.groupby('hr')['cnt'].sum()\n",
        "\n",
        "plt.figure(figsize=(10, 5))\n",
        "plt.bar(hourly_rentals.index, hourly_rentals.values, color='blue')\n",
        "\n",
        "plt.title('Total Bike Rentals by Hour')\n",
        "plt.xlabel('Hour')\n",
        "plt.ylabel('Total Rentals')\n",
        "plt.xticks(range(24))\n",
        "\n",
        "plt.show()"
      ]
    },
    {
      "cell_type": "markdown",
      "metadata": {
        "id": "_WeHlCeX8DC2"
      },
      "source": [
        "## Conclusion"
      ]
    },
    {
      "cell_type": "markdown",
      "metadata": {
        "id": "ZTcyR48Y8DC2"
      },
      "source": [
        "- Tren penggunaan bike sharing meningkat setiap bulan, mencapai puncaknya pada bulan Agustus dan menurun hingga Januari berikutnya. Jumlah pengguna pada tahun 2012 secara signifikan lebih tinggi daripada tahun sebelumnya.\n",
        "- Jumlah pengguna bike sharing lebih banyak pada hari kerja daripada hari libur.\n",
        "- Terjadi lonjakan penggunaan bike sharing pada jam 8 pagi dan 5 sore, stabil di siang hari, dan menurun drastis di larut malam."
      ]
    }
  ],
  "metadata": {
    "colab": {
      "provenance": []
    },
    "kernelspec": {
      "display_name": "Python 3",
      "language": "python",
      "name": "python3"
    },
    "language_info": {
      "codemirror_mode": {
        "name": "ipython",
        "version": 3
      },
      "file_extension": ".py",
      "mimetype": "text/x-python",
      "name": "python",
      "nbconvert_exporter": "python",
      "pygments_lexer": "ipython3",
      "version": "3.10.11"
    },
    "orig_nbformat": 4,
    "vscode": {
      "interpreter": {
        "hash": "972b3bf27e332e87b5379f2791f6ef9dfc79c71018c370b0d7423235e20fe4d7"
      }
    }
  },
  "nbformat": 4,
  "nbformat_minor": 0
}
